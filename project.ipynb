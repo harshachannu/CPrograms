{
  "nbformat": 4,
  "nbformat_minor": 0,
  "metadata": {
    "colab": {
      "provenance": [],
      "authorship_tag": "ABX9TyOQoQf8/sVtag56K2Q00ICl",
      "include_colab_link": true
    },
    "kernelspec": {
      "name": "python3",
      "display_name": "Python 3"
    },
    "language_info": {
      "name": "python"
    }
  },
  "cells": [
    {
      "cell_type": "markdown",
      "metadata": {
        "id": "view-in-github",
        "colab_type": "text"
      },
      "source": [
        "<a href=\"https://colab.research.google.com/github/harshachannu/CPrograms/blob/master/project.ipynb\" target=\"_parent\"><img src=\"https://colab.research.google.com/assets/colab-badge.svg\" alt=\"Open In Colab\"/></a>"
      ]
    },
    {
      "cell_type": "markdown",
      "source": [
        "hide icon"
      ],
      "metadata": {
        "id": "NTTq4Q4lDam-"
      }
    },
    {
      "cell_type": "code",
      "source": [
        "import nltk\n",
        "from nltk.tokenize import sent_tokenize\n",
        "\n",
        "nltk.download('punkt')\n",
        "\n",
        "def extract_hiding_behaviors(description):\n",
        "    hiding_behaviors = []\n",
        "\n",
        "    # Extract hiding behaviors\n",
        "    hiding_keywords = ['hide', 'conceal', 'remove', 'disable']\n",
        "    sentences = sent_tokenize(description)\n",
        "    for sentence in sentences:\n",
        "        words = nltk.word_tokenize(sentence.lower())\n",
        "        for keyword in hiding_keywords:\n",
        "            if keyword in words:\n",
        "                hiding_behaviors.append(sentence)\n",
        "                break\n",
        "\n",
        "    return hiding_behaviors\n",
        "\n",
        "\n",
        "text = '''\n",
        "Malware Description:\n",
        "The malicious app hides its presence on the device through various techniques. It hides its icon from the home screen, making it difficult for the user to notice its presence. Additionally, it disables notifications and blocks certain system alerts. The malware also conceals its network traffic by using encryption. Furthermore, it employs rootkit techniques to hide its processes and files from detection.\n",
        "\n",
        "Hiding Behaviors:\n",
        "- It hides its icon from the home screen.\n",
        "- It disables notifications and blocks system alerts.\n",
        "- It conceals its network traffic using encryption.\n",
        "- It employs rootkit techniques to hide its processes and files.\n",
        "'''\n",
        "\n",
        "\n",
        "sections = text.split('\\n\\n')\n",
        "malware_description = sections[0].strip().split(':')[1].strip()\n",
        "hiding_behaviors = extract_hiding_behaviors(sections[1])\n",
        "\n",
        "\n",
        "print(\"Malware Description:\")\n",
        "print(malware_description)\n",
        "\n",
        "print(\"\\nHiding Behaviors:\")\n",
        "if hiding_behaviors:\n",
        "    for behavior in hiding_behaviors:\n",
        "        print(\"- \" + behavior)\n",
        "else:\n",
        "    print(\"No hiding behaviors found.\")\n"
      ],
      "metadata": {
        "colab": {
          "base_uri": "https://localhost:8080/"
        },
        "id": "RRxseRUsklB3",
        "outputId": "4966d436-e1b0-4939-f5a2-e7f7647a90fd"
      },
      "execution_count": 1,
      "outputs": [
        {
          "output_type": "stream",
          "name": "stderr",
          "text": [
            "[nltk_data] Downloading package punkt to /root/nltk_data...\n",
            "[nltk_data]   Unzipping tokenizers/punkt.zip.\n"
          ]
        },
        {
          "output_type": "stream",
          "name": "stdout",
          "text": [
            "Malware Description:\n",
            "The malicious app hides its presence on the device through various techniques. It hides its icon from the home screen, making it difficult for the user to notice its presence. Additionally, it disables notifications and blocks certain system alerts. The malware also conceals its network traffic by using encryption. Furthermore, it employs rootkit techniques to hide its processes and files from detection.\n",
            "\n",
            "Hiding Behaviors:\n",
            "- - It employs rootkit techniques to hide its processes and files.\n"
          ]
        }
      ]
    },
    {
      "cell_type": "markdown",
      "source": [
        "hide app"
      ],
      "metadata": {
        "id": "jJnRolBmDd1Q"
      }
    },
    {
      "cell_type": "code",
      "source": [
        "import nltk\n",
        "from nltk.tokenize import sent_tokenize\n",
        "\n",
        "nltk.download('punkt')\n",
        "\n",
        "def extract_hiding_behaviors(description):\n",
        "    hiding_behaviors = []\n",
        "\n",
        "    # Extract hiding behaviors related to hiding the app\n",
        "    hiding_keywords = ['hide', 'run as a service', 'background', 'broadcastreceiver']\n",
        "    hiding_app_keywords = ['hide app', 'hiding app', 'hide the app', 'hiding the app']\n",
        "\n",
        "    sentences = sent_tokenize(description)\n",
        "    for sentence in sentences:\n",
        "        words = nltk.word_tokenize(sentence.lower())\n",
        "        for keyword in hiding_keywords:\n",
        "            if keyword in words:\n",
        "                for app_keyword in hiding_app_keywords:\n",
        "                    if app_keyword in words:\n",
        "                        hiding_behaviors.append(sentence)\n",
        "                        break\n",
        "                break\n",
        "\n",
        "    return hiding_behaviors\n",
        "\n",
        "# Example usage\n",
        "text = \"\"\"\n",
        "Malware Description:\n",
        "The malicious app employs various techniques to hide its presence on the device. It runs as a background service, avoiding detection in the running app list. The app creates a BroadcastReceiver to receive events like BOOT_COMPLETED and SMS_RECEIVED. Upon receiving these events, the malware launches itself as a service, ensuring that the app remains hidden from the user's view.\n",
        "\n",
        "Hiding Behaviors:\n",
        "- The app runs as a background service.\n",
        "- It creates a BroadcastReceiver to monitor specific events.\n",
        "- It launches itself as a service to stay hidden.\n",
        "\"\"\"\n",
        "\n",
        "# Extract the malware description and hiding behaviors\n",
        "sections = text.split('\\n\\n')\n",
        "malware_description = sections[0].strip().split(':')[1].strip()\n",
        "hiding_behaviors = extract_hiding_behaviors(sections[1])\n",
        "\n",
        "# Print the results\n",
        "print(\"Malware Description:\")\n",
        "print(malware_description)\n",
        "\n",
        "print(\"\\nHiding Behaviors:\")\n",
        "if hiding_behaviors:\n",
        "    for behavior in hiding_behaviors:\n",
        "        print(\"- \" + behavior)\n",
        "else:\n",
        "    print(\"No hiding behaviors found.\")\n"
      ],
      "metadata": {
        "colab": {
          "base_uri": "https://localhost:8080/"
        },
        "id": "DdGODpGvDUzP",
        "outputId": "853384b6-8b95-4219-f202-9453ef236f80"
      },
      "execution_count": 13,
      "outputs": [
        {
          "output_type": "stream",
          "name": "stdout",
          "text": [
            "Malware Description:\n",
            "The malicious app employs various techniques to hide its presence on the device. It runs as a background service, avoiding detection in the running app list. The app creates a BroadcastReceiver to receive events like BOOT_COMPLETED and SMS_RECEIVED. Upon receiving these events, the malware launches itself as a service, ensuring that the app remains hidden from the user's view.\n",
            "\n",
            "Hiding Behaviors:\n",
            "No hiding behaviors found.\n"
          ]
        },
        {
          "output_type": "stream",
          "name": "stderr",
          "text": [
            "[nltk_data] Downloading package punkt to /root/nltk_data...\n",
            "[nltk_data]   Package punkt is already up-to-date!\n"
          ]
        }
      ]
    },
    {
      "cell_type": "markdown",
      "source": [
        "hide activity"
      ],
      "metadata": {
        "id": "n4720EKJDY0F"
      }
    },
    {
      "cell_type": "code",
      "source": [
        "import nltk\n",
        "from nltk.tokenize import sent_tokenize\n",
        "\n",
        "nltk.download('punkt')\n",
        "\n",
        "def extract_hiding_behaviors(description):\n",
        "    hiding_behaviors = []\n",
        "\n",
        "    # Extract hiding behaviors related to hiding the activity\n",
        "    hiding_keywords = ['hide', 'transparent', 'destroy', 'remove', 'full screen']\n",
        "    hiding_activity_keywords = ['hide activity', 'hiding activity']\n",
        "\n",
        "    sentences = sent_tokenize(description)\n",
        "    for sentence in sentences:\n",
        "        words = nltk.word_tokenize(sentence.lower())\n",
        "        for keyword in hiding_keywords:\n",
        "            if keyword in words:\n",
        "                for activity_keyword in hiding_activity_keywords:\n",
        "                    if activity_keyword in words:\n",
        "                        hiding_behaviors.append(sentence)\n",
        "                        break\n",
        "                break\n",
        "\n",
        "    return hiding_behaviors\n",
        "\n",
        "# Example usage\n",
        "text = \"\"\"\n",
        "Malware Description:\n",
        "The malicious app employs various techniques to hide its presence on the device. It runs as a background service, avoiding detection in the running app list. The app creates a BroadcastReceiver to receive events like BOOT_COMPLETED and SMS_RECEIVED. Upon receiving these events, the malware launches itself as a service, ensuring that the app remains hidden from the user's view.\n",
        "\n",
        "Hiding Behaviors:\n",
        "- The app hides the activity by making it transparent and full screen.\n",
        "- It employs certain API methods to change the activity's appearance.\n",
        "- It uses a BroadcastReceiver to monitor specific events and start as a service.\n",
        "\"\"\"\n",
        "\n",
        "# Extract the malware description and hiding behaviors\n",
        "sections = text.split('\\n\\n')\n",
        "malware_description = sections[0].strip().split(':')[1].strip()\n",
        "hiding_behaviors = extract_hiding_behaviors(sections[1])\n",
        "\n",
        "# Print the results\n",
        "print(\"Malware Description:\")\n",
        "print(malware_description)\n",
        "\n",
        "print(\"\\nHiding Behaviors:\")\n",
        "if hiding_behaviors:\n",
        "    for behavior in hiding_behaviors:\n",
        "        print(\"- \" + behavior)\n",
        "else:\n",
        "    print(\"No hiding behaviors found.\")\n"
      ],
      "metadata": {
        "colab": {
          "base_uri": "https://localhost:8080/"
        },
        "id": "ugn2FI47Duz6",
        "outputId": "50ac6fa7-294b-4d94-d1fb-ce50fb152d82"
      },
      "execution_count": 14,
      "outputs": [
        {
          "output_type": "stream",
          "name": "stdout",
          "text": [
            "Malware Description:\n",
            "The malicious app employs various techniques to hide its presence on the device. It runs as a background service, avoiding detection in the running app list. The app creates a BroadcastReceiver to receive events like BOOT_COMPLETED and SMS_RECEIVED. Upon receiving these events, the malware launches itself as a service, ensuring that the app remains hidden from the user's view.\n",
            "\n",
            "Hiding Behaviors:\n",
            "No hiding behaviors found.\n"
          ]
        },
        {
          "output_type": "stream",
          "name": "stderr",
          "text": [
            "[nltk_data] Downloading package punkt to /root/nltk_data...\n",
            "[nltk_data]   Package punkt is already up-to-date!\n"
          ]
        }
      ]
    },
    {
      "cell_type": "code",
      "execution_count": 2,
      "metadata": {
        "colab": {
          "base_uri": "https://localhost:8080/"
        },
        "id": "yDUREyZ4PloM",
        "outputId": "cf8059dd-a6ae-4c38-f359-510010367bd6"
      },
      "outputs": [
        {
          "output_type": "stream",
          "name": "stdout",
          "text": [
            "No hiding behavior found.\n"
          ]
        },
        {
          "output_type": "stream",
          "name": "stderr",
          "text": [
            "[nltk_data] Downloading package punkt to /root/nltk_data...\n",
            "[nltk_data]   Package punkt is already up-to-date!\n",
            "[nltk_data] Downloading package stopwords to /root/nltk_data...\n",
            "[nltk_data]   Unzipping corpora/stopwords.zip.\n"
          ]
        }
      ],
      "source": [
        "import nltk\n",
        "from nltk.tokenize import sent_tokenize\n",
        "from nltk.corpus import stopwords\n",
        "\n",
        "nltk.download('punkt')\n",
        "nltk.download('stopwords')\n",
        "\n",
        "def extract_hiding_behavior(description):\n",
        "    hiding_behavior = None\n",
        "\n",
        "    hiding_keywords = ['hide', 'transparent', 'destroy', 'remove', 'full screen']\n",
        "    hiding_activity_keywords = ['hide activity', 'hiding activity']\n",
        "\n",
        "    sentences = sent_tokenize(description.lower())\n",
        "    for sentence in sentences:\n",
        "        words = nltk.word_tokenize(sentence)\n",
        "        if any(keyword in words for keyword in hiding_keywords):\n",
        "            if any(keyword in words for keyword in hiding_activity_keywords):\n",
        "                hiding_behavior = sentence\n",
        "                break\n",
        "\n",
        "    return hiding_behavior\n",
        "\n",
        "description = \"\"\"\n",
        "Most malware runs as a background service. However, starting in Android version 3.1, apps cannot create a service without having an activity associated with that service. Therefore, a malicious app must first create an activity. Next, to hide the activity, the app can employ two approaches: making the activity transparent or destroying the activity before it becomes visible. To render an activity transparent, a malicious app needs to make the activity’s main layout transparent, set the activity as full screen, then remove the action bar and window title. These values can be set in the app’s manifest file. In addition, malware can also accomplish this via certain API methods. For example, Android API methods setBackground(), setBackgroundDrawable() or setBackgroundColor() can change the activity to transparent. Methods addFlags(), setFlags(), or requestWindowFeature() can change the window to full screen, as well as remove the action bar and the window title. We now illustrate this with malware DroidKungFu3. First, the manifest file is used to make the activity layout transparent: ...\n",
        "\"\"\"\n",
        "\n",
        "hiding_behavior = extract_hiding_behavior(description)\n",
        "if hiding_behavior:\n",
        "    print(\"Hiding Behavior:\")\n",
        "    print(hiding_behavior)\n",
        "else:\n",
        "    print(\"No hiding behavior found.\")\n"
      ]
    },
    {
      "cell_type": "code",
      "source": [
        "import nltk\n",
        "from nltk.tokenize import sent_tokenize\n",
        "from nltk.corpus import stopwords\n",
        "\n",
        "nltk.download('punkt')\n",
        "nltk.download('stopwords')\n",
        "\n",
        "def extract_hiding_behaviors(description):\n",
        "    hiding_behaviors = []\n",
        "\n",
        "    hiding_keywords = ['hide', 'remove', 'delete', 'block', 'exclude', 'mute']\n",
        "    hiding_phrases = ['hide icon', 'hide app', 'hide activity', 'delete message', 'delete call log', 'block message',\n",
        "                      'block call', 'hide alert', 'hide notification', 'mute phone', 'exclude from recent apps list',\n",
        "                      'delete system log']\n",
        "\n",
        "    sentences = sent_tokenize(description.lower())\n",
        "    for sentence in sentences:\n",
        "        words = nltk.word_tokenize(sentence)\n",
        "        for phrase in hiding_phrases:\n",
        "            if phrase in sentence:\n",
        "                hiding_behaviors.append(phrase)\n",
        "                break\n",
        "        for word in words:\n",
        "            if word in hiding_keywords:\n",
        "                hiding_behaviors.append(' '.join(words))\n",
        "                break\n",
        "\n",
        "    return hiding_behaviors\n",
        "\n",
        "# Example usage\n",
        "description = \"\"\"\n",
        "After installation, benign apps add their icon to the home screen. To hide itself, a malicious app removes the icon so the user cannot notice the app’s presence. There are two methods for hiding the icon: (a) Modifying the app’s manifest file to remove the app from the default launcher, i.e., home screen. This can be done by deleting category android.intent.category.LAUNCHER from the app’s main activity section in the manifest file. For example, malware Fake-skype camouflages as the popular app Skype and runs in the background without an icon in the home screen. (b) Calling an Android API method to disable the icon at runtime. This can be done by invoking method setComponentEnabledSetting(). For example, malware Facebook-otp (full package name: jgywwv.jvyjsd.sordvd), masquerades as the Facebook app but disables its icon immediately after installation. We show the segment of the code we reverse-engineered from this malware:\n",
        "1 PackageManager pm = getPackageManager();\n",
        "2 ComponentName cn = new ComponentName(\"jgywwv.jvyjsd.sordvd\", \"jgywwv.jvyjsd.sordvd.Activity1\");\n",
        "3 pm.setComponentEnabledSetting(cn, PackageManager.COMPONENT_ENABLED_STATE_DISABLED, PackageManager.DONT_KILL_APP);\n",
        "\"\"\"\n",
        "\n",
        "hiding_behaviors = extract_hiding_behaviors(description)\n",
        "if hiding_behaviors:\n",
        "\n",
        "    print(\"Hiding Behaviors:\")\n",
        "    for behavior in hiding_behaviors:\n",
        "        print(behavior)\n",
        "else:\n",
        "    print(\"No hiding behaviors found.\")\n"
      ],
      "metadata": {
        "colab": {
          "base_uri": "https://localhost:8080/"
        },
        "id": "c3tWkHhYlUod",
        "outputId": "481fb8e2-f7af-45ac-d245-26155633e029"
      },
      "execution_count": 8,
      "outputs": [
        {
          "output_type": "stream",
          "name": "stdout",
          "text": [
            "Hiding Behaviors:\n",
            "to hide itself , a malicious app removes the icon so the user can not notice the app ’ s presence .\n",
            "there are two methods for hiding the icon : ( a ) modifying the app ’ s manifest file to remove the app from the default launcher , i.e. , home screen .\n"
          ]
        },
        {
          "output_type": "stream",
          "name": "stderr",
          "text": [
            "[nltk_data] Downloading package punkt to /root/nltk_data...\n",
            "[nltk_data]   Package punkt is already up-to-date!\n",
            "[nltk_data] Downloading package stopwords to /root/nltk_data...\n",
            "[nltk_data]   Package stopwords is already up-to-date!\n"
          ]
        }
      ]
    },
    {
      "cell_type": "code",
      "source": [
        "import nltk\n",
        "from nltk.tokenize import sent_tokenize\n",
        "\n",
        "def extract_hiding_behavior(description):\n",
        "    hiding_keywords = ['delete', 'remove', 'cover']\n",
        "    hiding_behavior = None\n",
        "\n",
        "    # Split the description into sentences\n",
        "    sentences = sent_tokenize(description)\n",
        "\n",
        "    # Extract hiding behavior related to deleting call logs\n",
        "    for sentence in sentences:\n",
        "        words = re.findall(r'\\w+', sentence.lower())\n",
        "        if any(keyword in words for keyword in hiding_keywords):\n",
        "            if 'call log' in words or 'call logs' in words:\n",
        "                hiding_behavior = sentence\n",
        "                break\n",
        "\n",
        "    return hiding_behavior\n",
        "\n",
        "# Example usage\n",
        "description = \"\"\"\n",
        "After making or receiving a phone call in the background, Android will generate a record in the call log. To cover its traces, malware has to delete this entry from the call log. An example is the SaveMe spyware. SaveMe has a service that can make a call in the background (e.g., to a premium number) as dictated by the malware’s server. We show this in Figure 4. In the left code snippet EXT_CALL is the number to be called. After the phone call, the malware deletes the corresponding call log entry. In the right code snippet, the string s contains the number that was just called.\n",
        "\"\"\"\n",
        "\n",
        "hiding_behavior = extract_hiding_behavior(description)\n",
        "if hiding_behavior:\n",
        "    print(\"Hiding Behavior:\")\n",
        "    print(hiding_behavior)\n",
        "else:\n",
        "    print(\"No hiding behavior related to deleting call logs found.\")\n"
      ],
      "metadata": {
        "colab": {
          "base_uri": "https://localhost:8080/"
        },
        "id": "nNfXySOFlnoN",
        "outputId": "9cdf5452-1f66-4393-ac74-5c0330ab106d"
      },
      "execution_count": 11,
      "outputs": [
        {
          "output_type": "stream",
          "name": "stdout",
          "text": [
            "No hiding behavior related to deleting call logs found.\n"
          ]
        }
      ]
    },
    {
      "cell_type": "code",
      "source": [
        "import nltk\n",
        "from nltk.tokenize import sent_tokenize\n",
        "\n",
        "def extract_hiding_behavior(description):\n",
        "    hiding_keywords = ['block', 'filter', 'prevent']\n",
        "    hiding_behavior = None\n",
        "\n",
        "    # Split the description into sentences\n",
        "    sentences = sent_tokenize(description)\n",
        "\n",
        "    # Extract hiding behavior related to blocking messages\n",
        "    for sentence in sentences:\n",
        "        words = re.findall(r'\\w+', sentence.lower())\n",
        "        if any(keyword in words for keyword in hiding_keywords):\n",
        "            if 'message' in words or 'sms' in words or 'mms' in words:\n",
        "                if 'abortbroadcast' in words or 'abortbroadcast()' in words:\n",
        "                    hiding_behavior = sentence\n",
        "                    break\n",
        "\n",
        "    return hiding_behavior\n",
        "\n",
        "# Example usage\n",
        "description = \"\"\"\n",
        "After a malicious app sends SMS/MMS to sign up for a premium-rate service in the background, it will receive a confirmation SMS/MMS sent from the service provider. To prevent users from knowing this, the malware has to filter the received SMS/MMS by calling abortBroadcast(). An example is Trojan:Fakebank.B, shown below (please note that method a checks the intent to see whether the SMS message has been received)\n",
        "\"\"\"\n",
        "\n",
        "hiding_behavior = extract_hiding_behavior(description)\n",
        "if hiding_behavior:\n",
        "    print(\"Hiding Behavior:\")\n",
        "    print(hiding_behavior)\n",
        "else:\n",
        "    print(\"No hiding behavior related to blocking messages found.\")\n"
      ],
      "metadata": {
        "colab": {
          "base_uri": "https://localhost:8080/"
        },
        "id": "ebR4dGz-x95y",
        "outputId": "77164e45-55f2-420b-b2ee-471e2982192e"
      },
      "execution_count": 13,
      "outputs": [
        {
          "output_type": "stream",
          "name": "stdout",
          "text": [
            "Hiding Behavior:\n",
            "To prevent users from knowing this, the malware has to filter the received SMS/MMS by calling abortBroadcast().\n"
          ]
        }
      ]
    },
    {
      "cell_type": "code",
      "source": [
        "import nltk\n",
        "from nltk.tokenize import sent_tokenize\n",
        "\n",
        "def extract_hiding_behavior(description):\n",
        "    hiding_keywords = ['block call', 'suppress', 'disconnect']\n",
        "    hiding_behavior = None\n",
        "\n",
        "    # Split the description into sentences\n",
        "    sentences = sent_tokenize(description)\n",
        "\n",
        "    # Extract hiding behavior related to blocking calls\n",
        "    for sentence in sentences:\n",
        "        words = re.findall(r'\\w+', sentence.lower())\n",
        "        if any(keyword in words for keyword in hiding_keywords):\n",
        "            if 'call' in words or 'phone call' in words or 'incoming call' in words:\n",
        "                if 'endcall' in words or 'endcall()' in words:\n",
        "                    hiding_behavior = sentence\n",
        "                    break\n",
        "\n",
        "    return hiding_behavior\n",
        "\n",
        "# Example usage\n",
        "description = \"\"\"\n",
        "A malicious app can use the block call feature to prevent certain numbers from contacting the device. This can be done by intercepting incoming calls and disconnecting them before the user is notified. The malware achieves this by registering a broadcast receiver to listen for incoming calls and checking the caller's number. If the number matches a predefined list of blocked numbers, the malware ends the call using the endCall() method. Additionally, the malware may remove the corresponding entry from the call logs to cover its tracks. For example, the Trojan:Blocker.A malware employs this technique to block calls from specific contacts without the user's knowledge.\n",
        "For malware that is part of a botnet, the command and control (C&C) server could call the infected phone to ask the bot (malware app) to perform certain services; the C&C server is encoded in the phone number. To prevent users from realizing this, the malware needs to block the phone call. If the malware received an intent android.intent.action.PHONE_STATE and the number of the caller is the C&C server, then the ringer mode is set to silent to suppress the notification of the incoming call and the phone call is disconnected. Its corresponding entry from the call logs is also removed, removing all traces of the phone call. An example is malware fakeAV that uses endCall() to cancel the incoming call.\n",
        "\n",
        "\"\"\"\n",
        "\n",
        "hiding_behavior = extract_hiding_behavior(description)\n",
        "if hiding_behavior:\n",
        "    print(\"Hiding Behavior:\")\n",
        "    print(hiding_behavior)\n",
        "else:\n",
        "    print(\"No hiding behavior related to blocking calls found.\")\n"
      ],
      "metadata": {
        "colab": {
          "base_uri": "https://localhost:8080/"
        },
        "id": "nNEXO6YXy82z",
        "outputId": "a31d03cc-fa20-4681-8626-1511fc17a515"
      },
      "execution_count": 19,
      "outputs": [
        {
          "output_type": "stream",
          "name": "stdout",
          "text": [
            "No hiding behavior related to blocking calls found.\n"
          ]
        }
      ]
    },
    {
      "cell_type": "code",
      "source": [
        "import nltk\n",
        "from nltk.tokenize import sent_tokenize\n",
        "nltk.download('punkt')\n",
        "\n",
        "def extract_hiding_behaviors(description):\n",
        "    hiding_keywords = ['hide', 'remove', 'delete', 'block', 'exclude', 'mute']\n",
        "    hiding_behaviors = []\n",
        "\n",
        "    # Split the description into sentences\n",
        "    sentences = sent_tokenize(description)\n",
        "\n",
        "    # Extract hiding behaviors\n",
        "    for sentence in sentences:\n",
        "        words = re.findall(r'\\w+', sentence.lower())\n",
        "        for keyword in hiding_keywords:\n",
        "            if keyword in words:\n",
        "                hiding_behaviors.append(sentence)\n",
        "                break\n",
        "\n",
        "    return hiding_behaviors\n",
        "\n",
        "# Example usage\n",
        "description = \"\"\"\n",
        "After installation, benign apps add their icon to the home screen. To hide itself, a malicious app removes the icon so the user cannot notice the app’s presence. There are two methods for hiding the icon: (a) Modifying the app’s manifest file to remove the app from the default launcher, i.e., home screen. This can be done by deleting category android.intent.category.LAUNCHER from the app’s main activity section in the manifest file. For example, malware Fake-skype camouflages as the popular app Skype and runs in the background without an icon in the home screen. (b) Calling an Android API method to disable the icon at runtime. This can be done by invoking method setComponentEnabledSetting(). For example, malware Facebook-otp (full package name: jgywwv.jvyjsd.sordvd), masquerades as the Facebook app but disables its icon immediately after installation. We show the segment of the code we reverse-engineered from this malware:\n",
        "\n",
        "\"\"\"\n",
        "\n",
        "hiding_behaviors = extract_hiding_behaviors(description)\n",
        "if hiding_behaviors:\n",
        "    print(\"Hiding Behaviors:\")\n",
        "    for behavior in hiding_behaviors:\n",
        "        print(behavior)\n",
        "else:\n",
        "    print(\"No hiding behaviors found.\")\n"
      ],
      "metadata": {
        "colab": {
          "base_uri": "https://localhost:8080/"
        },
        "id": "BE2HiORu0i30",
        "outputId": "cba1bb38-6dcf-4b00-d53e-c1bb72ccd152"
      },
      "execution_count": 7,
      "outputs": [
        {
          "output_type": "stream",
          "name": "stdout",
          "text": [
            "Hiding Behaviors:\n",
            "To hide itself, a malicious app removes the icon so the user cannot notice the app’s presence.\n",
            "There are two methods for hiding the icon: (a) Modifying the app’s manifest file to remove the app from the default launcher, i.e., home screen.\n"
          ]
        },
        {
          "output_type": "stream",
          "name": "stderr",
          "text": [
            "[nltk_data] Downloading package punkt to /root/nltk_data...\n",
            "[nltk_data]   Package punkt is already up-to-date!\n"
          ]
        }
      ]
    },
    {
      "cell_type": "code",
      "source": [
        "import nltk\n",
        "from nltk.tokenize import sent_tokenize\n",
        "\n",
        "def extract_hiding_behaviors(description):\n",
        "    hiding_keywords = ['hide', 'remove', 'delete', 'cancel']\n",
        "    hiding_behaviors = []\n",
        "\n",
        "    # Split the description into sentences\n",
        "    sentences = sent_tokenize(description)\n",
        "\n",
        "    # Extract hiding behaviors\n",
        "    for sentence in sentences:\n",
        "        words = re.findall(r'\\w+', sentence.lower())\n",
        "        for keyword in hiding_keywords:\n",
        "            if keyword in words:\n",
        "                hiding_behaviors.append(sentence)\n",
        "                break\n",
        "\n",
        "    return hiding_behaviors\n",
        "\n",
        "# Example usage\n",
        "description = \"\"\"\n",
        "Apps can send alerts to the user by generating a notification on the notification bar. But the malware can delete notifications by calling NotificationManager’s methods cancel() or cancelAll() when receiving notifications. An example is malware Bios.NativeMaliciousCode.apk.\n",
        "\"\"\"\n",
        "\n",
        "hiding_behaviors = extract_hiding_behaviors(description)\n",
        "if hiding_behaviors:\n",
        "    print(\"Hiding Behaviors:\")\n",
        "    for behavior in hiding_behaviors:\n",
        "        print(behavior)\n",
        "else:\n",
        "    print(\"No hiding behaviors found.\")\n"
      ],
      "metadata": {
        "colab": {
          "base_uri": "https://localhost:8080/"
        },
        "id": "M7ii7V75ozxY",
        "outputId": "5a1092dc-9e01-4632-84bb-32a0fd85bdc9"
      },
      "execution_count": 8,
      "outputs": [
        {
          "output_type": "stream",
          "name": "stdout",
          "text": [
            "Hiding Behaviors:\n",
            "But the malware can delete notifications by calling NotificationManager’s methods cancel() or cancelAll() when receiving notifications.\n"
          ]
        }
      ]
    },
    {
      "cell_type": "code",
      "source": [
        "import nltk\n",
        "from nltk.tokenize import sent_tokenize\n",
        "\n",
        "def extract_hiding_behaviors(description):\n",
        "    hiding_keywords = ['mute', 'disable', 'prevent', 'cover']\n",
        "    hiding_behaviors = []\n",
        "\n",
        "    # Split the description into sentences\n",
        "    sentences = sent_tokenize(description)\n",
        "\n",
        "    # Extract hiding behaviors\n",
        "    for sentence in sentences:\n",
        "        words = re.findall(r'\\w+', sentence.lower())\n",
        "        for keyword in hiding_keywords:\n",
        "            if keyword in words:\n",
        "                hiding_behaviors.append(sentence)\n",
        "                break\n",
        "\n",
        "    return hiding_behaviors\n",
        "\n",
        "# Example usage\n",
        "description = \"\"\"\n",
        "To cover their presence, malicious apps often resort to muting the phone or disabling the vibrate function, to prevent the user from hearing the sound of alarms, notifications, phone calls, or incoming SMSs. This can be accomplished in a variety of ways: switching to silent mode, calling the vibrator service, setting the phone to mute, or adjusting the volume to the lowest level. An example is the Trojan iBanking.\n",
        "\"\"\"\n",
        "\n",
        "hiding_behaviors = extract_hiding_behaviors(description)\n",
        "if hiding_behaviors:\n",
        "    print(\"Hiding Behaviors:\")\n",
        "    for behavior in hiding_behaviors:\n",
        "        print(behavior)\n",
        "else:\n",
        "    print(\"No hiding behaviors found.\")\n"
      ],
      "metadata": {
        "colab": {
          "base_uri": "https://localhost:8080/"
        },
        "id": "c9BQT14lpFV-",
        "outputId": "18a83c64-b527-4628-8d92-4a93adb63eb4"
      },
      "execution_count": 12,
      "outputs": [
        {
          "output_type": "stream",
          "name": "stdout",
          "text": [
            "Hiding Behaviors:\n",
            "\n",
            "To cover their presence, malicious apps often resort to muting the phone or disabling the vibrate function, to prevent the user from hearing the sound of alarms, notifications, phone calls, or incoming SMSs.\n",
            "This can be accomplished in a variety of ways: switching to silent mode, calling the vibrator service, setting the phone to mute, or adjusting the volume to the lowest level.\n"
          ]
        }
      ]
    },
    {
      "cell_type": "code",
      "source": [
        "import nltk\n",
        "from nltk.tokenize import sent_tokenize\n",
        "\n",
        "def extract_hiding_behaviors(description):\n",
        "    hiding_keywords = ['delete', 'remove', 'clear']\n",
        "    hiding_behaviors = []\n",
        "\n",
        "    # Split the description into sentences\n",
        "    sentences = sent_tokenize(description)\n",
        "\n",
        "    # Extract hiding behaviors\n",
        "    for sentence in sentences:\n",
        "        words = re.findall(r'\\w+', sentence.lower())\n",
        "        for keyword in hiding_keywords:\n",
        "            if keyword in words:\n",
        "                hiding_behaviors.append(sentence)\n",
        "                break\n",
        "\n",
        "    return hiding_behaviors\n",
        "\n",
        "# Example usage\n",
        "description = \"\"\"\n",
        "Android saves system activity into the system log, which can be viewed via the logcat. Malware can call adb logcat -c to delete the logs if the phone is rooted or if the Android API is lower than 16. We present an example of such an action extracted from the trojan SMSblocker.\n",
        "\"\"\"\n",
        "\n",
        "hiding_behaviors = extract_hiding_behaviors(description)\n",
        "if hiding_behaviors:\n",
        "    print(\"Hiding Behaviors:\")\n",
        "    for behavior in hiding_behaviors:\n",
        "        print(behavior)\n",
        "else:\n",
        "    print(\"No hiding behaviors found.\")\n"
      ],
      "metadata": {
        "colab": {
          "base_uri": "https://localhost:8080/"
        },
        "id": "7XA5TgEvpgv7",
        "outputId": "da72889b-3893-4cf9-c498-b76b694e5ad3"
      },
      "execution_count": 11,
      "outputs": [
        {
          "output_type": "stream",
          "name": "stdout",
          "text": [
            "Hiding Behaviors:\n",
            "Malware can call adb logcat -c to delete the logs if the phone is rooted or if the Android API is lower than 16.\n"
          ]
        }
      ]
    }
  ]
}