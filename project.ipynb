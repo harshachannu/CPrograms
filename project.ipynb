{
  "nbformat": 4,
  "nbformat_minor": 0,
  "metadata": {
    "colab": {
      "provenance": [],
      "authorship_tag": "ABX9TyP5Us9MJyG6owl/m4GOIR4R",
      "include_colab_link": true
    },
    "kernelspec": {
      "name": "python3",
      "display_name": "Python 3"
    },
    "language_info": {
      "name": "python"
    }
  },
  "cells": [
    {
      "cell_type": "markdown",
      "metadata": {
        "id": "view-in-github",
        "colab_type": "text"
      },
      "source": [
        "<a href=\"https://colab.research.google.com/github/harshachannu/CPrograms/blob/master/project.ipynb\" target=\"_parent\"><img src=\"https://colab.research.google.com/assets/colab-badge.svg\" alt=\"Open In Colab\"/></a>"
      ]
    },
    {
      "cell_type": "code",
      "source": [
        "import nltk\n",
        "from nltk.tokenize import sent_tokenize\n",
        "from nltk.corpus import stopwords\n",
        "\n",
        "nltk.download('punkt')\n",
        "nltk.download('stopwords')\n",
        "nltk.download('all')\n",
        "\n",
        "def extract_hiding_behavior(description):\n",
        "    hiding_behavior = None\n",
        "\n",
        "    hiding_keywords = ['hide', 'transparent', 'destroy', 'remove', 'full screen']\n",
        "    hiding_activity_keywords = ['hide activity', 'hiding activity']\n",
        "\n",
        "    sentences = sent_tokenize(description.lower())\n",
        "    for sentence in sentences:\n",
        "        words = nltk.word_tokenize(sentence)\n",
        "        if any(keyword in words for keyword in hiding_keywords):\n",
        "            if any(keyword in words for keyword in hiding_activity_keywords):\n",
        "                hiding_behavior = sentence\n",
        "                break\n",
        "\n",
        "    return hiding_behavior"
      ],
      "metadata": {
        "colab": {
          "base_uri": "https://localhost:8080/"
        },
        "id": "N9511NvQaDUK",
        "outputId": "53188347-efb2-4942-bfd3-6cf649a09a1e"
      },
      "execution_count": 30,
      "outputs": [
        {
          "output_type": "stream",
          "name": "stderr",
          "text": [
            "[nltk_data] Downloading package punkt to /root/nltk_data...\n",
            "[nltk_data]   Package punkt is already up-to-date!\n",
            "[nltk_data] Downloading package stopwords to /root/nltk_data...\n",
            "[nltk_data]   Package stopwords is already up-to-date!\n",
            "[nltk_data] Downloading collection 'all'\n",
            "[nltk_data]    | \n",
            "[nltk_data]    | Downloading package abc to /root/nltk_data...\n",
            "[nltk_data]    |   Package abc is already up-to-date!\n",
            "[nltk_data]    | Downloading package alpino to /root/nltk_data...\n",
            "[nltk_data]    |   Package alpino is already up-to-date!\n",
            "[nltk_data]    | Downloading package averaged_perceptron_tagger to\n",
            "[nltk_data]    |     /root/nltk_data...\n",
            "[nltk_data]    |   Package averaged_perceptron_tagger is already up-\n",
            "[nltk_data]    |       to-date!\n",
            "[nltk_data]    | Downloading package averaged_perceptron_tagger_ru to\n",
            "[nltk_data]    |     /root/nltk_data...\n",
            "[nltk_data]    |   Package averaged_perceptron_tagger_ru is already\n",
            "[nltk_data]    |       up-to-date!\n",
            "[nltk_data]    | Downloading package basque_grammars to\n",
            "[nltk_data]    |     /root/nltk_data...\n",
            "[nltk_data]    |   Package basque_grammars is already up-to-date!\n",
            "[nltk_data]    | Downloading package bcp47 to /root/nltk_data...\n",
            "[nltk_data]    |   Package bcp47 is already up-to-date!\n",
            "[nltk_data]    | Downloading package biocreative_ppi to\n",
            "[nltk_data]    |     /root/nltk_data...\n",
            "[nltk_data]    |   Package biocreative_ppi is already up-to-date!\n",
            "[nltk_data]    | Downloading package bllip_wsj_no_aux to\n",
            "[nltk_data]    |     /root/nltk_data...\n",
            "[nltk_data]    |   Package bllip_wsj_no_aux is already up-to-date!\n",
            "[nltk_data]    | Downloading package book_grammars to\n",
            "[nltk_data]    |     /root/nltk_data...\n",
            "[nltk_data]    |   Package book_grammars is already up-to-date!\n",
            "[nltk_data]    | Downloading package brown to /root/nltk_data...\n",
            "[nltk_data]    |   Package brown is already up-to-date!\n",
            "[nltk_data]    | Downloading package brown_tei to /root/nltk_data...\n",
            "[nltk_data]    |   Package brown_tei is already up-to-date!\n",
            "[nltk_data]    | Downloading package cess_cat to /root/nltk_data...\n",
            "[nltk_data]    |   Package cess_cat is already up-to-date!\n",
            "[nltk_data]    | Downloading package cess_esp to /root/nltk_data...\n",
            "[nltk_data]    |   Package cess_esp is already up-to-date!\n",
            "[nltk_data]    | Downloading package chat80 to /root/nltk_data...\n",
            "[nltk_data]    |   Package chat80 is already up-to-date!\n",
            "[nltk_data]    | Downloading package city_database to\n",
            "[nltk_data]    |     /root/nltk_data...\n",
            "[nltk_data]    |   Package city_database is already up-to-date!\n",
            "[nltk_data]    | Downloading package cmudict to /root/nltk_data...\n",
            "[nltk_data]    |   Package cmudict is already up-to-date!\n",
            "[nltk_data]    | Downloading package comparative_sentences to\n",
            "[nltk_data]    |     /root/nltk_data...\n",
            "[nltk_data]    |   Package comparative_sentences is already up-to-\n",
            "[nltk_data]    |       date!\n",
            "[nltk_data]    | Downloading package comtrans to /root/nltk_data...\n",
            "[nltk_data]    |   Package comtrans is already up-to-date!\n",
            "[nltk_data]    | Downloading package conll2000 to /root/nltk_data...\n",
            "[nltk_data]    |   Package conll2000 is already up-to-date!\n",
            "[nltk_data]    | Downloading package conll2002 to /root/nltk_data...\n",
            "[nltk_data]    |   Package conll2002 is already up-to-date!\n",
            "[nltk_data]    | Downloading package conll2007 to /root/nltk_data...\n",
            "[nltk_data]    |   Package conll2007 is already up-to-date!\n",
            "[nltk_data]    | Downloading package crubadan to /root/nltk_data...\n",
            "[nltk_data]    |   Package crubadan is already up-to-date!\n",
            "[nltk_data]    | Downloading package dependency_treebank to\n",
            "[nltk_data]    |     /root/nltk_data...\n",
            "[nltk_data]    |   Package dependency_treebank is already up-to-date!\n",
            "[nltk_data]    | Downloading package dolch to /root/nltk_data...\n",
            "[nltk_data]    |   Package dolch is already up-to-date!\n",
            "[nltk_data]    | Downloading package europarl_raw to\n",
            "[nltk_data]    |     /root/nltk_data...\n",
            "[nltk_data]    |   Package europarl_raw is already up-to-date!\n",
            "[nltk_data]    | Downloading package extended_omw to\n",
            "[nltk_data]    |     /root/nltk_data...\n",
            "[nltk_data]    |   Package extended_omw is already up-to-date!\n",
            "[nltk_data]    | Downloading package floresta to /root/nltk_data...\n",
            "[nltk_data]    |   Package floresta is already up-to-date!\n",
            "[nltk_data]    | Downloading package framenet_v15 to\n",
            "[nltk_data]    |     /root/nltk_data...\n",
            "[nltk_data]    |   Package framenet_v15 is already up-to-date!\n",
            "[nltk_data]    | Downloading package framenet_v17 to\n",
            "[nltk_data]    |     /root/nltk_data...\n",
            "[nltk_data]    |   Package framenet_v17 is already up-to-date!\n",
            "[nltk_data]    | Downloading package gazetteers to /root/nltk_data...\n",
            "[nltk_data]    |   Package gazetteers is already up-to-date!\n",
            "[nltk_data]    | Downloading package genesis to /root/nltk_data...\n",
            "[nltk_data]    |   Package genesis is already up-to-date!\n",
            "[nltk_data]    | Downloading package gutenberg to /root/nltk_data...\n",
            "[nltk_data]    |   Package gutenberg is already up-to-date!\n",
            "[nltk_data]    | Downloading package ieer to /root/nltk_data...\n",
            "[nltk_data]    |   Package ieer is already up-to-date!\n",
            "[nltk_data]    | Downloading package inaugural to /root/nltk_data...\n",
            "[nltk_data]    |   Package inaugural is already up-to-date!\n",
            "[nltk_data]    | Downloading package indian to /root/nltk_data...\n",
            "[nltk_data]    |   Package indian is already up-to-date!\n",
            "[nltk_data]    | Downloading package jeita to /root/nltk_data...\n",
            "[nltk_data]    |   Package jeita is already up-to-date!\n",
            "[nltk_data]    | Downloading package kimmo to /root/nltk_data...\n",
            "[nltk_data]    |   Package kimmo is already up-to-date!\n",
            "[nltk_data]    | Downloading package knbc to /root/nltk_data...\n",
            "[nltk_data]    |   Package knbc is already up-to-date!\n",
            "[nltk_data]    | Downloading package large_grammars to\n",
            "[nltk_data]    |     /root/nltk_data...\n",
            "[nltk_data]    |   Package large_grammars is already up-to-date!\n",
            "[nltk_data]    | Downloading package lin_thesaurus to\n",
            "[nltk_data]    |     /root/nltk_data...\n",
            "[nltk_data]    |   Package lin_thesaurus is already up-to-date!\n",
            "[nltk_data]    | Downloading package mac_morpho to /root/nltk_data...\n",
            "[nltk_data]    |   Package mac_morpho is already up-to-date!\n",
            "[nltk_data]    | Downloading package machado to /root/nltk_data...\n",
            "[nltk_data]    |   Package machado is already up-to-date!\n",
            "[nltk_data]    | Downloading package masc_tagged to /root/nltk_data...\n",
            "[nltk_data]    |   Package masc_tagged is already up-to-date!\n",
            "[nltk_data]    | Downloading package maxent_ne_chunker to\n",
            "[nltk_data]    |     /root/nltk_data...\n",
            "[nltk_data]    |   Package maxent_ne_chunker is already up-to-date!\n",
            "[nltk_data]    | Downloading package maxent_treebank_pos_tagger to\n",
            "[nltk_data]    |     /root/nltk_data...\n",
            "[nltk_data]    |   Package maxent_treebank_pos_tagger is already up-\n",
            "[nltk_data]    |       to-date!\n",
            "[nltk_data]    | Downloading package moses_sample to\n",
            "[nltk_data]    |     /root/nltk_data...\n",
            "[nltk_data]    |   Package moses_sample is already up-to-date!\n",
            "[nltk_data]    | Downloading package movie_reviews to\n",
            "[nltk_data]    |     /root/nltk_data...\n",
            "[nltk_data]    |   Package movie_reviews is already up-to-date!\n",
            "[nltk_data]    | Downloading package mte_teip5 to /root/nltk_data...\n",
            "[nltk_data]    |   Package mte_teip5 is already up-to-date!\n",
            "[nltk_data]    | Downloading package mwa_ppdb to /root/nltk_data...\n",
            "[nltk_data]    |   Package mwa_ppdb is already up-to-date!\n",
            "[nltk_data]    | Downloading package names to /root/nltk_data...\n",
            "[nltk_data]    |   Package names is already up-to-date!\n",
            "[nltk_data]    | Downloading package nombank.1.0 to /root/nltk_data...\n",
            "[nltk_data]    |   Package nombank.1.0 is already up-to-date!\n",
            "[nltk_data]    | Downloading package nonbreaking_prefixes to\n",
            "[nltk_data]    |     /root/nltk_data...\n",
            "[nltk_data]    |   Package nonbreaking_prefixes is already up-to-date!\n",
            "[nltk_data]    | Downloading package nps_chat to /root/nltk_data...\n",
            "[nltk_data]    |   Package nps_chat is already up-to-date!\n",
            "[nltk_data]    | Downloading package omw to /root/nltk_data...\n",
            "[nltk_data]    |   Package omw is already up-to-date!\n",
            "[nltk_data]    | Downloading package omw-1.4 to /root/nltk_data...\n",
            "[nltk_data]    |   Package omw-1.4 is already up-to-date!\n",
            "[nltk_data]    | Downloading package opinion_lexicon to\n",
            "[nltk_data]    |     /root/nltk_data...\n",
            "[nltk_data]    |   Package opinion_lexicon is already up-to-date!\n",
            "[nltk_data]    | Downloading package panlex_swadesh to\n",
            "[nltk_data]    |     /root/nltk_data...\n",
            "[nltk_data]    |   Package panlex_swadesh is already up-to-date!\n",
            "[nltk_data]    | Downloading package paradigms to /root/nltk_data...\n",
            "[nltk_data]    |   Package paradigms is already up-to-date!\n",
            "[nltk_data]    | Downloading package pe08 to /root/nltk_data...\n",
            "[nltk_data]    |   Package pe08 is already up-to-date!\n",
            "[nltk_data]    | Downloading package perluniprops to\n",
            "[nltk_data]    |     /root/nltk_data...\n",
            "[nltk_data]    |   Package perluniprops is already up-to-date!\n",
            "[nltk_data]    | Downloading package pil to /root/nltk_data...\n",
            "[nltk_data]    |   Package pil is already up-to-date!\n",
            "[nltk_data]    | Downloading package pl196x to /root/nltk_data...\n",
            "[nltk_data]    |   Package pl196x is already up-to-date!\n",
            "[nltk_data]    | Downloading package porter_test to /root/nltk_data...\n",
            "[nltk_data]    |   Package porter_test is already up-to-date!\n",
            "[nltk_data]    | Downloading package ppattach to /root/nltk_data...\n",
            "[nltk_data]    |   Package ppattach is already up-to-date!\n",
            "[nltk_data]    | Downloading package problem_reports to\n",
            "[nltk_data]    |     /root/nltk_data...\n",
            "[nltk_data]    |   Package problem_reports is already up-to-date!\n",
            "[nltk_data]    | Downloading package product_reviews_1 to\n",
            "[nltk_data]    |     /root/nltk_data...\n",
            "[nltk_data]    |   Package product_reviews_1 is already up-to-date!\n",
            "[nltk_data]    | Downloading package product_reviews_2 to\n",
            "[nltk_data]    |     /root/nltk_data...\n",
            "[nltk_data]    |   Package product_reviews_2 is already up-to-date!\n",
            "[nltk_data]    | Downloading package propbank to /root/nltk_data...\n",
            "[nltk_data]    |   Package propbank is already up-to-date!\n",
            "[nltk_data]    | Downloading package pros_cons to /root/nltk_data...\n",
            "[nltk_data]    |   Package pros_cons is already up-to-date!\n",
            "[nltk_data]    | Downloading package ptb to /root/nltk_data...\n",
            "[nltk_data]    |   Package ptb is already up-to-date!\n",
            "[nltk_data]    | Downloading package punkt to /root/nltk_data...\n",
            "[nltk_data]    |   Package punkt is already up-to-date!\n",
            "[nltk_data]    | Downloading package qc to /root/nltk_data...\n",
            "[nltk_data]    |   Package qc is already up-to-date!\n",
            "[nltk_data]    | Downloading package reuters to /root/nltk_data...\n",
            "[nltk_data]    |   Package reuters is already up-to-date!\n",
            "[nltk_data]    | Downloading package rslp to /root/nltk_data...\n",
            "[nltk_data]    |   Package rslp is already up-to-date!\n",
            "[nltk_data]    | Downloading package rte to /root/nltk_data...\n",
            "[nltk_data]    |   Package rte is already up-to-date!\n",
            "[nltk_data]    | Downloading package sample_grammars to\n",
            "[nltk_data]    |     /root/nltk_data...\n",
            "[nltk_data]    |   Package sample_grammars is already up-to-date!\n",
            "[nltk_data]    | Downloading package semcor to /root/nltk_data...\n",
            "[nltk_data]    |   Package semcor is already up-to-date!\n",
            "[nltk_data]    | Downloading package senseval to /root/nltk_data...\n",
            "[nltk_data]    |   Package senseval is already up-to-date!\n",
            "[nltk_data]    | Downloading package sentence_polarity to\n",
            "[nltk_data]    |     /root/nltk_data...\n",
            "[nltk_data]    |   Package sentence_polarity is already up-to-date!\n",
            "[nltk_data]    | Downloading package sentiwordnet to\n",
            "[nltk_data]    |     /root/nltk_data...\n",
            "[nltk_data]    |   Package sentiwordnet is already up-to-date!\n",
            "[nltk_data]    | Downloading package shakespeare to /root/nltk_data...\n",
            "[nltk_data]    |   Package shakespeare is already up-to-date!\n",
            "[nltk_data]    | Downloading package sinica_treebank to\n",
            "[nltk_data]    |     /root/nltk_data...\n",
            "[nltk_data]    |   Package sinica_treebank is already up-to-date!\n",
            "[nltk_data]    | Downloading package smultron to /root/nltk_data...\n",
            "[nltk_data]    |   Package smultron is already up-to-date!\n",
            "[nltk_data]    | Downloading package snowball_data to\n",
            "[nltk_data]    |     /root/nltk_data...\n",
            "[nltk_data]    |   Package snowball_data is already up-to-date!\n",
            "[nltk_data]    | Downloading package spanish_grammars to\n",
            "[nltk_data]    |     /root/nltk_data...\n",
            "[nltk_data]    |   Package spanish_grammars is already up-to-date!\n",
            "[nltk_data]    | Downloading package state_union to /root/nltk_data...\n",
            "[nltk_data]    |   Package state_union is already up-to-date!\n",
            "[nltk_data]    | Downloading package stopwords to /root/nltk_data...\n",
            "[nltk_data]    |   Package stopwords is already up-to-date!\n",
            "[nltk_data]    | Downloading package subjectivity to\n",
            "[nltk_data]    |     /root/nltk_data...\n",
            "[nltk_data]    |   Package subjectivity is already up-to-date!\n",
            "[nltk_data]    | Downloading package swadesh to /root/nltk_data...\n",
            "[nltk_data]    |   Package swadesh is already up-to-date!\n",
            "[nltk_data]    | Downloading package switchboard to /root/nltk_data...\n",
            "[nltk_data]    |   Package switchboard is already up-to-date!\n",
            "[nltk_data]    | Downloading package tagsets to /root/nltk_data...\n",
            "[nltk_data]    |   Package tagsets is already up-to-date!\n",
            "[nltk_data]    | Downloading package timit to /root/nltk_data...\n",
            "[nltk_data]    |   Package timit is already up-to-date!\n",
            "[nltk_data]    | Downloading package toolbox to /root/nltk_data...\n",
            "[nltk_data]    |   Package toolbox is already up-to-date!\n",
            "[nltk_data]    | Downloading package treebank to /root/nltk_data...\n",
            "[nltk_data]    |   Package treebank is already up-to-date!\n",
            "[nltk_data]    | Downloading package twitter_samples to\n",
            "[nltk_data]    |     /root/nltk_data...\n",
            "[nltk_data]    |   Package twitter_samples is already up-to-date!\n",
            "[nltk_data]    | Downloading package udhr to /root/nltk_data...\n",
            "[nltk_data]    |   Package udhr is already up-to-date!\n",
            "[nltk_data]    | Downloading package udhr2 to /root/nltk_data...\n",
            "[nltk_data]    |   Package udhr2 is already up-to-date!\n",
            "[nltk_data]    | Downloading package unicode_samples to\n",
            "[nltk_data]    |     /root/nltk_data...\n",
            "[nltk_data]    |   Package unicode_samples is already up-to-date!\n",
            "[nltk_data]    | Downloading package universal_tagset to\n",
            "[nltk_data]    |     /root/nltk_data...\n",
            "[nltk_data]    |   Package universal_tagset is already up-to-date!\n",
            "[nltk_data]    | Downloading package universal_treebanks_v20 to\n",
            "[nltk_data]    |     /root/nltk_data...\n",
            "[nltk_data]    |   Package universal_treebanks_v20 is already up-to-\n",
            "[nltk_data]    |       date!\n",
            "[nltk_data]    | Downloading package vader_lexicon to\n",
            "[nltk_data]    |     /root/nltk_data...\n",
            "[nltk_data]    |   Package vader_lexicon is already up-to-date!\n",
            "[nltk_data]    | Downloading package verbnet to /root/nltk_data...\n",
            "[nltk_data]    |   Package verbnet is already up-to-date!\n",
            "[nltk_data]    | Downloading package verbnet3 to /root/nltk_data...\n",
            "[nltk_data]    |   Package verbnet3 is already up-to-date!\n",
            "[nltk_data]    | Downloading package webtext to /root/nltk_data...\n",
            "[nltk_data]    |   Package webtext is already up-to-date!\n",
            "[nltk_data]    | Downloading package wmt15_eval to /root/nltk_data...\n",
            "[nltk_data]    |   Package wmt15_eval is already up-to-date!\n",
            "[nltk_data]    | Downloading package word2vec_sample to\n",
            "[nltk_data]    |     /root/nltk_data...\n",
            "[nltk_data]    |   Package word2vec_sample is already up-to-date!\n",
            "[nltk_data]    | Downloading package wordnet to /root/nltk_data...\n",
            "[nltk_data]    |   Package wordnet is already up-to-date!\n",
            "[nltk_data]    | Downloading package wordnet2021 to /root/nltk_data...\n",
            "[nltk_data]    |   Package wordnet2021 is already up-to-date!\n",
            "[nltk_data]    | Downloading package wordnet2022 to /root/nltk_data...\n",
            "[nltk_data]    |   Package wordnet2022 is already up-to-date!\n",
            "[nltk_data]    | Downloading package wordnet31 to /root/nltk_data...\n",
            "[nltk_data]    |   Package wordnet31 is already up-to-date!\n",
            "[nltk_data]    | Downloading package wordnet_ic to /root/nltk_data...\n",
            "[nltk_data]    |   Package wordnet_ic is already up-to-date!\n",
            "[nltk_data]    | Downloading package words to /root/nltk_data...\n",
            "[nltk_data]    |   Package words is already up-to-date!\n",
            "[nltk_data]    | Downloading package ycoe to /root/nltk_data...\n",
            "[nltk_data]    |   Package ycoe is already up-to-date!\n",
            "[nltk_data]    | \n",
            "[nltk_data]  Done downloading collection all\n"
          ]
        }
      ]
    },
    {
      "cell_type": "markdown",
      "source": [
        "hide icon"
      ],
      "metadata": {
        "id": "NTTq4Q4lDam-"
      }
    },
    {
      "cell_type": "code",
      "source": [
        "import nltk\n",
        "from nltk.tokenize import sent_tokenize\n",
        "\n",
        "nltk.download('punkt')\n",
        "\n",
        "def extract_hiding_behaviors(description):\n",
        "    hiding_behaviors = []\n",
        "\n",
        "    hiding_keywords = ['hide', 'conceal', 'remove', 'disable']\n",
        "    sentences = sent_tokenize(description)\n",
        "    for sentence in sentences:\n",
        "        words = nltk.word_tokenize(sentence.lower())\n",
        "        for keyword in hiding_keywords:\n",
        "            if keyword in words:\n",
        "                hiding_behaviors.append(sentence)\n",
        "                break\n",
        "\n",
        "    return hiding_behaviors\n",
        "\n",
        "\n",
        "text = '''\n",
        "Malware Description:\n",
        "The malicious app hides its presence on the device through various techniques. It hides its icon from the home screen, making it difficult for the user to notice its presence. Additionally, it disables notifications and blocks certain system alerts. The malware also conceals its network traffic by using encryption. Furthermore, it employs rootkit techniques to hide its processes and files from detection.\n",
        "\n",
        "Hiding Behaviors:\n",
        "- It hides its icon from the home screen.\n",
        "- It disables notifications and blocks system alerts.\n",
        "- It conceals its network traffic using encryption.\n",
        "- It employs rootkit techniques to hide its processes and files.\n",
        "'''\n",
        "\n",
        "\n",
        "sections = text.split('\\n\\n')\n",
        "malware_description = sections[0].strip().split(':')[1].strip()\n",
        "hiding_behaviors = extract_hiding_behaviors(sections[1])\n",
        "\n",
        "\n",
        "print(\"Malware Description:\")\n",
        "print(malware_description)\n",
        "\n",
        "print(\"\\nHiding Behaviors:\")\n",
        "if hiding_behaviors:\n",
        "    for behavior in hiding_behaviors:\n",
        "        print(\"- \" + behavior)\n",
        "else:\n",
        "    print(\"No hiding behaviors found.\")\n"
      ],
      "metadata": {
        "colab": {
          "base_uri": "https://localhost:8080/"
        },
        "id": "RRxseRUsklB3",
        "outputId": "40a2f93c-91d6-4d64-ac30-b5e87ed6fd30"
      },
      "execution_count": 31,
      "outputs": [
        {
          "output_type": "stream",
          "name": "stdout",
          "text": [
            "Malware Description:\n",
            "The malicious app hides its presence on the device through various techniques. It hides its icon from the home screen, making it difficult for the user to notice its presence. Additionally, it disables notifications and blocks certain system alerts. The malware also conceals its network traffic by using encryption. Furthermore, it employs rootkit techniques to hide its processes and files from detection.\n",
            "\n",
            "Hiding Behaviors:\n",
            "- - It employs rootkit techniques to hide its processes and files.\n"
          ]
        },
        {
          "output_type": "stream",
          "name": "stderr",
          "text": [
            "[nltk_data] Downloading package punkt to /root/nltk_data...\n",
            "[nltk_data]   Package punkt is already up-to-date!\n"
          ]
        }
      ]
    },
    {
      "cell_type": "markdown",
      "source": [
        "hide app"
      ],
      "metadata": {
        "id": "jJnRolBmDd1Q"
      }
    },
    {
      "cell_type": "code",
      "source": [
        "import nltk\n",
        "from nltk.tokenize import sent_tokenize\n",
        "\n",
        "nltk.download('punkt')\n",
        "\n",
        "def extract_hiding_behaviors(description):\n",
        "    hiding_behaviors = []\n",
        "\n",
        "\n",
        "    hiding_keywords = ['hide', 'run as a service', 'background', 'broadcastreceiver']\n",
        "    hiding_app_keywords = ['hide app', 'hiding app', 'hide the app', 'hiding the app']\n",
        "\n",
        "    sentences = sent_tokenize(description)\n",
        "    for sentence in sentences:\n",
        "        words = nltk.word_tokenize(sentence.lower())\n",
        "        for keyword in hiding_keywords:\n",
        "            if keyword in words:\n",
        "                for app_keyword in hiding_app_keywords:\n",
        "                    if app_keyword in words:\n",
        "                        hiding_behaviors.append(sentence)\n",
        "                        break\n",
        "                break\n",
        "\n",
        "    return hiding_behaviors\n",
        "\n",
        "text = \"\"\"\n",
        "Malware Description:\n",
        "The malicious app employs various techniques to hide its presence on the device. It runs as a background service, avoiding detection in the running app list. The app creates a BroadcastReceiver to receive events like BOOT_COMPLETED and SMS_RECEIVED. Upon receiving these events, the malware launches itself as a service, ensuring that the app remains hidden from the user's view.\n",
        "\n",
        "Hiding Behaviors:\n",
        "- The app runs as a background service.\n",
        "- It creates a BroadcastReceiver to monitor specific events.\n",
        "- It launches itself as a service to stay hidden.\n",
        "\"\"\"\n",
        "\n",
        "sections = text.split('\\n\\n')\n",
        "malware_description = sections[0].strip().split(':')[1].strip()\n",
        "hiding_behaviors = extract_hiding_behaviors(sections[1])\n",
        "\n",
        "print(\"Malware Description:\")\n",
        "print(malware_description)\n",
        "\n",
        "print(\"\\nHiding Behaviors:\")\n",
        "if hiding_behaviors:\n",
        "    for behavior in hiding_behaviors:\n",
        "        print(\"- \" + behavior)\n",
        "else:\n",
        "    print(\"No hiding behaviors found.\")\n"
      ],
      "metadata": {
        "colab": {
          "base_uri": "https://localhost:8080/"
        },
        "id": "DdGODpGvDUzP",
        "outputId": "d53f467f-3545-441e-f5ce-08dae7bf65b0"
      },
      "execution_count": 32,
      "outputs": [
        {
          "output_type": "stream",
          "name": "stdout",
          "text": [
            "Malware Description:\n",
            "The malicious app employs various techniques to hide its presence on the device. It runs as a background service, avoiding detection in the running app list. The app creates a BroadcastReceiver to receive events like BOOT_COMPLETED and SMS_RECEIVED. Upon receiving these events, the malware launches itself as a service, ensuring that the app remains hidden from the user's view.\n",
            "\n",
            "Hiding Behaviors:\n",
            "No hiding behaviors found.\n"
          ]
        },
        {
          "output_type": "stream",
          "name": "stderr",
          "text": [
            "[nltk_data] Downloading package punkt to /root/nltk_data...\n",
            "[nltk_data]   Package punkt is already up-to-date!\n"
          ]
        }
      ]
    },
    {
      "cell_type": "markdown",
      "source": [
        "hide activity"
      ],
      "metadata": {
        "id": "n4720EKJDY0F"
      }
    },
    {
      "cell_type": "code",
      "source": [
        "import nltk\n",
        "from nltk.tokenize import sent_tokenize\n",
        "\n",
        "nltk.download('punkt')\n",
        "\n",
        "def extract_hiding_behaviors(description):\n",
        "    hiding_behaviors = []\n",
        "\n",
        "    hiding_keywords = ['hide', 'transparent', 'destroy', 'remove', 'full screen']\n",
        "    hiding_activity_keywords = ['hide activity', 'hiding activity']\n",
        "\n",
        "    sentences = sent_tokenize(description)\n",
        "    for sentence in sentences:\n",
        "        words = nltk.word_tokenize(sentence.lower())\n",
        "        for keyword in hiding_keywords:\n",
        "            if keyword in words:\n",
        "                for activity_keyword in hiding_activity_keywords:\n",
        "                    if activity_keyword in words:\n",
        "                        hiding_behaviors.append(sentence)\n",
        "                        break\n",
        "                break\n",
        "\n",
        "    return hiding_behaviors\n",
        "\n",
        "text = \"\"\"\n",
        "Malware Description:\n",
        "The malicious app employs various techniques to hide its presence on the device. It runs as a background service, avoiding detection in the running app list. The app creates a BroadcastReceiver to receive events like BOOT_COMPLETED and SMS_RECEIVED. Upon receiving these events, the malware launches itself as a service, ensuring that the app remains hidden from the user's view.\n",
        "\n",
        "Hiding Behaviors:\n",
        "- The app hides the activity by making it transparent and full screen.\n",
        "- It employs certain API methods to change the activity's appearance.\n",
        "- It uses a BroadcastReceiver to monitor specific events and start as a service.\n",
        "\"\"\"\n",
        "\n",
        "sections = text.split('\\n\\n')\n",
        "malware_description = sections[0].strip().split(':')[1].strip()\n",
        "hiding_behaviors = extract_hiding_behaviors(sections[1])\n",
        "\n",
        "print(\"Malware Description:\")\n",
        "print(malware_description)\n",
        "\n",
        "print(\"\\nHiding Behaviors:\")\n",
        "if hiding_behaviors:\n",
        "    for behavior in hiding_behaviors:\n",
        "        print(\"- \" + behavior)\n",
        "else:\n",
        "    print(\"No hiding behaviors found.\")\n"
      ],
      "metadata": {
        "colab": {
          "base_uri": "https://localhost:8080/"
        },
        "id": "ugn2FI47Duz6",
        "outputId": "dcef2047-8eab-4317-b596-b38f9f3e5c99"
      },
      "execution_count": 33,
      "outputs": [
        {
          "output_type": "stream",
          "name": "stdout",
          "text": [
            "Malware Description:\n",
            "The malicious app employs various techniques to hide its presence on the device. It runs as a background service, avoiding detection in the running app list. The app creates a BroadcastReceiver to receive events like BOOT_COMPLETED and SMS_RECEIVED. Upon receiving these events, the malware launches itself as a service, ensuring that the app remains hidden from the user's view.\n",
            "\n",
            "Hiding Behaviors:\n",
            "No hiding behaviors found.\n"
          ]
        },
        {
          "output_type": "stream",
          "name": "stderr",
          "text": [
            "[nltk_data] Downloading package punkt to /root/nltk_data...\n",
            "[nltk_data]   Package punkt is already up-to-date!\n"
          ]
        }
      ]
    },
    {
      "cell_type": "markdown",
      "source": [
        "DELETE MESSAGES"
      ],
      "metadata": {
        "id": "iMbhMB6hRfRK"
      }
    },
    {
      "cell_type": "code",
      "source": [
        "import nltk\n",
        "from nltk.tokenize import sent_tokenize\n",
        "from nltk.corpus import stopwords\n",
        "\n",
        "nltk.download('punkt')\n",
        "nltk.download('stopwords')\n",
        "\n",
        "def extract_hiding_behaviors(description):\n",
        "    hiding_behaviors = []\n",
        "\n",
        "    hiding_keywords = ['hide', 'remove', 'delete', 'block', 'exclude', 'mute']\n",
        "    hiding_phrases = ['hide icon', 'hide app', 'hide activity', 'delete message', 'delete call log', 'block message',\n",
        "                      'block call', 'hide alert', 'hide notification', 'mute phone', 'exclude from recent apps list',\n",
        "                      'delete system log']\n",
        "\n",
        "    sentences = sent_tokenize(description.lower())\n",
        "    for sentence in sentences:\n",
        "        words = nltk.word_tokenize(sentence)\n",
        "        for phrase in hiding_phrases:\n",
        "            if phrase in sentence:\n",
        "                hiding_behaviors.append(phrase)\n",
        "                break\n",
        "        for word in words:\n",
        "            if word in hiding_keywords:\n",
        "                hiding_behaviors.append(' '.join(words))\n",
        "                break\n",
        "\n",
        "    return hiding_behaviors\n",
        "\n",
        "description = \"\"\"\n",
        "After installation, benign apps add their icon to the home screen. To hide itself, a malicious app removes the icon so the user cannot notice the app’s presence. There are two methods for hiding the icon: (a) Modifying the app’s manifest file to remove the app from the default launcher, i.e., home screen. This can be done by deleting category android.intent.category.LAUNCHER from the app’s main activity section in the manifest file. For example, malware Fake-skype camouflages as the popular app Skype and runs in the background without an icon in the home screen. (b) Calling an Android API method to disable the icon at runtime. This can be done by invoking method setComponentEnabledSetting(). For example, malware Facebook-otp (full package name: jgywwv.jvyjsd.sordvd), masquerades as the Facebook app but disables its icon immediately after installation. We show the segment of the code we reverse-engineered from this malware:\n",
        "1 PackageManager pm = getPackageManager();\n",
        "2 ComponentName cn = new ComponentName();\n",
        "3 pm.setComponentEnabledSetting();\n",
        "\"\"\"\n",
        "\n",
        "hiding_behaviors = extract_hiding_behaviors(description)\n",
        "if hiding_behaviors:\n",
        "\n",
        "    print(\"Hiding Behaviors:\")\n",
        "    for behavior in hiding_behaviors:\n",
        "        print(behavior)\n",
        "else:\n",
        "    print(\"No hiding behaviors found.\")\n"
      ],
      "metadata": {
        "colab": {
          "base_uri": "https://localhost:8080/"
        },
        "id": "c3tWkHhYlUod",
        "outputId": "0cf418e1-d115-4cf9-8ca1-bc95b77c1d43"
      },
      "execution_count": 34,
      "outputs": [
        {
          "output_type": "stream",
          "name": "stdout",
          "text": [
            "Hiding Behaviors:\n",
            "to hide itself , a malicious app removes the icon so the user can not notice the app ’ s presence .\n",
            "there are two methods for hiding the icon : ( a ) modifying the app ’ s manifest file to remove the app from the default launcher , i.e. , home screen .\n"
          ]
        },
        {
          "output_type": "stream",
          "name": "stderr",
          "text": [
            "[nltk_data] Downloading package punkt to /root/nltk_data...\n",
            "[nltk_data]   Package punkt is already up-to-date!\n",
            "[nltk_data] Downloading package stopwords to /root/nltk_data...\n",
            "[nltk_data]   Package stopwords is already up-to-date!\n"
          ]
        }
      ]
    },
    {
      "cell_type": "markdown",
      "source": [
        "DELETE CALL LOGS"
      ],
      "metadata": {
        "id": "H1abIq3YQG-N"
      }
    },
    {
      "cell_type": "code",
      "source": [
        "import re\n",
        "from nltk.tokenize import sent_tokenize\n",
        "\n",
        "def extract_hiding_behavior(description):\n",
        "    hiding_keywords = ['delete', 'remove', 'cover']\n",
        "    hiding_behavior = None\n",
        "\n",
        "    sentences = sent_tokenize(description)\n",
        "\n",
        "    for sentence in sentences:\n",
        "        words = re.findall(r'\\w+', sentence.lower())\n",
        "        if any(keyword in words for keyword in hiding_keywords):\n",
        "            if 'call log' in words or 'call logs' in words:\n",
        "                hiding_behavior = sentence\n",
        "                break\n",
        "\n",
        "    return hiding_behavior\n",
        "\n",
        "description = \"\"\"\n",
        "After making or receiving a phone call in the background, Android will generate a record in the call log. To cover its traces, malware has to delete this entry from the call log. An example is the SaveMe spyware. SaveMe has a service that can make a call in the background (e.g., to a premium number) as dictated by the malware’s server. We show this in Figure 4. In the left code snippet EXT_CALL is the number to be called. After the phone call, the malware deletes the corresponding call log entry. In the right code snippet, the string s contains the number that was just called.\n",
        "\"\"\"\n",
        "\n",
        "hiding_behavior = extract_hiding_behavior(description)\n",
        "if hiding_behavior:\n",
        "    print(\"Hiding Behavior:\")\n",
        "    print(hiding_behavior)\n",
        "else:\n",
        "    print(\"No hiding behavior related to deleting call logs found.\")\n"
      ],
      "metadata": {
        "colab": {
          "base_uri": "https://localhost:8080/"
        },
        "id": "nNfXySOFlnoN",
        "outputId": "47241b3b-056b-410f-c2f7-93655dd9d112"
      },
      "execution_count": 35,
      "outputs": [
        {
          "output_type": "stream",
          "name": "stdout",
          "text": [
            "No hiding behavior related to deleting call logs found.\n"
          ]
        }
      ]
    },
    {
      "cell_type": "markdown",
      "source": [
        "BLOCK MESAAGES"
      ],
      "metadata": {
        "id": "RfN4mYO6QQGV"
      }
    },
    {
      "cell_type": "code",
      "source": [
        "import nltk\n",
        "from nltk.tokenize import sent_tokenize\n",
        "\n",
        "def extract_hiding_behavior(description):\n",
        "    hiding_keywords = ['block', 'filter', 'prevent']\n",
        "    hiding_behavior = None\n",
        "\n",
        "    sentences = sent_tokenize(description)\n",
        "\n",
        "    for sentence in sentences:\n",
        "        words = re.findall(r'\\w+', sentence.lower())\n",
        "        if any(keyword in words for keyword in hiding_keywords):\n",
        "            if 'message' in words or 'sms' in words or 'mms' in words:\n",
        "                if 'abortbroadcast' in words or 'abortbroadcast()' in words:\n",
        "                    hiding_behavior = sentence\n",
        "                    break\n",
        "\n",
        "    return hiding_behavior\n",
        "\n",
        "description = \"\"\"\n",
        "After a malicious app sends SMS/MMS to sign up for a premium-rate service in the background, it will receive a confirmation SMS/MMS sent from the service provider. To prevent users from knowing this, the malware has to filter the received SMS/MMS by calling abortBroadcast(). An example is Trojan:Fakebank.B, shown below (please note that method a checks the intent to see whether the SMS message has been received)\n",
        "\"\"\"\n",
        "\n",
        "hiding_behavior = extract_hiding_behavior(description)\n",
        "if hiding_behavior:\n",
        "    print(\"Hiding Behavior:\")\n",
        "    print(hiding_behavior)\n",
        "else:\n",
        "    print(\"No hiding behavior related to blocking messages found.\")\n"
      ],
      "metadata": {
        "colab": {
          "base_uri": "https://localhost:8080/"
        },
        "id": "ebR4dGz-x95y",
        "outputId": "fc1cf39f-2ca4-432b-f885-8973acefe972"
      },
      "execution_count": 36,
      "outputs": [
        {
          "output_type": "stream",
          "name": "stdout",
          "text": [
            "Hiding Behavior:\n",
            "To prevent users from knowing this, the malware has to filter the received SMS/MMS by calling abortBroadcast().\n"
          ]
        }
      ]
    },
    {
      "cell_type": "markdown",
      "source": [
        "BLOCK CALL"
      ],
      "metadata": {
        "id": "wE5V6JQwQWa_"
      }
    },
    {
      "cell_type": "code",
      "source": [
        "import nltk\n",
        "from nltk.tokenize import sent_tokenize\n",
        "\n",
        "def extract_hiding_behavior(description):\n",
        "    hiding_keywords = ['block call', 'suppress', 'disconnect']\n",
        "    hiding_behavior = None\n",
        "\n",
        "    sentences = sent_tokenize(description)\n",
        "\n",
        "    for sentence in sentences:\n",
        "        words = re.findall(r'\\w+', sentence.lower())\n",
        "        if any(keyword in words for keyword in hiding_keywords):\n",
        "            if 'call' in words or 'phone call' in words or 'incoming call' in words:\n",
        "                if 'endcall' in words or 'endcall()' in words:\n",
        "                    hiding_behavior = sentence\n",
        "                    break\n",
        "\n",
        "    return hiding_behavior\n",
        "\n",
        "description = \"\"\"\n",
        "1. A malicious app can use the block call feature to prevent certain numbers from contacting the device. This can be done by intercepting incoming calls and disconnecting them before the user is notified. The malware achieves this by registering a broadcast receiver to listen for incoming calls and checking the caller's number. If the number matches a predefined list of blocked numbers, the malware ends the call using the endCall() method. Additionally, the malware may remove the corresponding entry from the call logs to cover its tracks. For example, the Trojan:Blocker.A malware employs this technique to block calls from specific contacts without the user's knowledge.\n",
        "2. For malware that is part of a botnet, the command and control (C&C) server could call the infected phone to ask the bot (malware app) to perform certain services; the C&C server is encoded in the phone number. To prevent users from realizing this, the malware needs to block the phone call. If the malware received an intent android.intent.action.PHONE_STATE and the number of the caller is the C&C server, then the ringer mode is set to silent to suppress the notification of the incoming call and the phone call is disconnected. Its corresponding entry from the call logs is also removed, removing all traces of the phone call. An example is malware fakeAV that uses endCall() to cancel the incoming call.\n",
        "\n",
        "\"\"\"\n",
        "\n",
        "hiding_behavior = extract_hiding_behavior(description)\n",
        "if hiding_behavior:\n",
        "    print(\"Hiding Behavior:\")\n",
        "    print(hiding_behavior)\n",
        "else:\n",
        "    print(\"No hiding behavior related to blocking calls found.\")\n"
      ],
      "metadata": {
        "colab": {
          "base_uri": "https://localhost:8080/"
        },
        "id": "nNEXO6YXy82z",
        "outputId": "27ec248f-7af1-4ee4-8702-c09c3a012a42"
      },
      "execution_count": 37,
      "outputs": [
        {
          "output_type": "stream",
          "name": "stdout",
          "text": [
            "No hiding behavior related to blocking calls found.\n"
          ]
        }
      ]
    },
    {
      "cell_type": "markdown",
      "source": [
        "HIDE ALERT"
      ],
      "metadata": {
        "id": "4-3wTzbMQZjd"
      }
    },
    {
      "cell_type": "code",
      "source": [
        "import nltk\n",
        "from nltk.tokenize import sent_tokenize\n",
        "nltk.download('punkt')\n",
        "\n",
        "def extract_hiding_behaviors(description):\n",
        "    hiding_keywords = ['hide', 'remove', 'delete', 'block', 'exclude', 'mute']\n",
        "    hiding_behaviors = []\n",
        "\n",
        "    sentences = sent_tokenize(description)\n",
        "\n",
        "    for sentence in sentences:\n",
        "        words = re.findall(r'\\w+', sentence.lower())\n",
        "        for keyword in hiding_keywords:\n",
        "            if keyword in words:\n",
        "                hiding_behaviors.append(sentence)\n",
        "                break\n",
        "\n",
        "    return hiding_behaviors\n",
        "\n",
        "description = \"\"\"\n",
        "After installation, benign apps add their icon to the home screen. To hide itself, a malicious app removes the icon so the user cannot notice the app’s presence. There are two methods for hiding the icon: (a) Modifying the app’s manifest file to remove the app from the default launcher, i.e., home screen. This can be done by deleting category android.intent.category.LAUNCHER from the app’s main activity section in the manifest file. For example, malware Fake-skype camouflages as the popular app Skype and runs in the background without an icon in the home screen. (b) Calling an Android API method to disable the icon at runtime. This can be done by invoking method setComponentEnabledSetting(). For example, malware Facebook-otp (full package name: jgywwv.jvyjsd.sordvd), masquerades as the Facebook app but disables its icon immediately after installation. We show the segment of the code we reverse-engineered from this malware:\n",
        "\n",
        "\"\"\"\n",
        "\n",
        "hiding_behaviors = extract_hiding_behaviors(description)\n",
        "if hiding_behaviors:\n",
        "    print(\"Hiding Behaviors:\")\n",
        "    for behavior in hiding_behaviors:\n",
        "        print(behavior)\n",
        "else:\n",
        "    print(\"No hiding behaviors found.\")\n"
      ],
      "metadata": {
        "colab": {
          "base_uri": "https://localhost:8080/"
        },
        "id": "BE2HiORu0i30",
        "outputId": "19e5783b-70fa-44c5-c73d-76e3286d6acd"
      },
      "execution_count": 38,
      "outputs": [
        {
          "output_type": "stream",
          "name": "stdout",
          "text": [
            "Hiding Behaviors:\n",
            "To hide itself, a malicious app removes the icon so the user cannot notice the app’s presence.\n",
            "There are two methods for hiding the icon: (a) Modifying the app’s manifest file to remove the app from the default launcher, i.e., home screen.\n"
          ]
        },
        {
          "output_type": "stream",
          "name": "stderr",
          "text": [
            "[nltk_data] Downloading package punkt to /root/nltk_data...\n",
            "[nltk_data]   Package punkt is already up-to-date!\n"
          ]
        }
      ]
    },
    {
      "cell_type": "markdown",
      "source": [
        "HIDE NOTIFICATION"
      ],
      "metadata": {
        "id": "m5jPlLbbQd9E"
      }
    },
    {
      "cell_type": "code",
      "source": [
        "import nltk\n",
        "from nltk.tokenize import sent_tokenize\n",
        "\n",
        "def extract_hiding_behaviors(description):\n",
        "    hiding_keywords = ['hide', 'remove', 'delete', 'cancel']\n",
        "    hiding_behaviors = []\n",
        "\n",
        "    sentences = sent_tokenize(description)\n",
        "\n",
        "    for sentence in sentences:\n",
        "        words = re.findall(r'\\w+', sentence.lower())\n",
        "        for keyword in hiding_keywords:\n",
        "            if keyword in words:\n",
        "                hiding_behaviors.append(sentence)\n",
        "                break\n",
        "\n",
        "    return hiding_behaviors\n",
        "\n",
        "description = \"\"\"\n",
        "Apps can send alerts to the user by generating a notification on the notification bar. But the malware can delete notifications by calling NotificationManager’s methods cancel() or cancelAll() when receiving notifications. An example is malware Bios.NativeMaliciousCode.apk.\n",
        "\"\"\"\n",
        "\n",
        "hiding_behaviors = extract_hiding_behaviors(description)\n",
        "if hiding_behaviors:\n",
        "    print(\"Hiding Behaviors:\")\n",
        "    for behavior in hiding_behaviors:\n",
        "        print(behavior)\n",
        "else:\n",
        "    print(\"No hiding behaviors found.\")\n"
      ],
      "metadata": {
        "colab": {
          "base_uri": "https://localhost:8080/"
        },
        "id": "M7ii7V75ozxY",
        "outputId": "2d74f42c-6654-477c-f9b2-d4022d6616ab"
      },
      "execution_count": 39,
      "outputs": [
        {
          "output_type": "stream",
          "name": "stdout",
          "text": [
            "Hiding Behaviors:\n",
            "But the malware can delete notifications by calling NotificationManager’s methods cancel() or cancelAll() when receiving notifications.\n"
          ]
        }
      ]
    },
    {
      "cell_type": "markdown",
      "source": [
        "MUTE PHONE"
      ],
      "metadata": {
        "id": "WiBluHODQkOg"
      }
    },
    {
      "cell_type": "code",
      "source": [
        "import nltk\n",
        "from nltk.tokenize import sent_tokenize\n",
        "\n",
        "def extract_hiding_behaviors(description):\n",
        "    hiding_keywords = ['mute', 'disable', 'prevent', 'cover']\n",
        "    hiding_behaviors = []\n",
        "\n",
        "    sentences = sent_tokenize(description)\n",
        "\n",
        "    for sentence in sentences:\n",
        "        words = re.findall(r'\\w+', sentence.lower())\n",
        "        for keyword in hiding_keywords:\n",
        "            if keyword in words:\n",
        "                hiding_behaviors.append(sentence)\n",
        "                break\n",
        "\n",
        "    return hiding_behaviors\n",
        "\n",
        "description = \"\"\"\n",
        "To cover their presence, malicious apps often resort to muting the phone or disabling the vibrate function, to prevent the user from hearing the sound of alarms, notifications, phone calls, or incoming SMSs. This can be accomplished in a variety of ways: switching to silent mode, calling the vibrator service, setting the phone to mute, or adjusting the volume to the lowest level. An example is the Trojan iBanking.\n",
        "\"\"\"\n",
        "\n",
        "hiding_behaviors = extract_hiding_behaviors(description)\n",
        "if hiding_behaviors:\n",
        "    print(\"Hiding Behaviors:\")\n",
        "    for behavior in hiding_behaviors:\n",
        "        print(behavior)\n",
        "else:\n",
        "    print(\"No hiding behaviors found.\")\n"
      ],
      "metadata": {
        "colab": {
          "base_uri": "https://localhost:8080/"
        },
        "id": "c9BQT14lpFV-",
        "outputId": "ee3f91ee-6cc9-446d-8a25-720397089156"
      },
      "execution_count": 40,
      "outputs": [
        {
          "output_type": "stream",
          "name": "stdout",
          "text": [
            "Hiding Behaviors:\n",
            "\n",
            "To cover their presence, malicious apps often resort to muting the phone or disabling the vibrate function, to prevent the user from hearing the sound of alarms, notifications, phone calls, or incoming SMSs.\n",
            "This can be accomplished in a variety of ways: switching to silent mode, calling the vibrator service, setting the phone to mute, or adjusting the volume to the lowest level.\n"
          ]
        }
      ]
    },
    {
      "cell_type": "markdown",
      "source": [
        "DELETE SYSTEM LOGS"
      ],
      "metadata": {
        "id": "45VyuSC0Qm49"
      }
    },
    {
      "cell_type": "code",
      "source": [
        "import nltk\n",
        "from nltk.tokenize import sent_tokenize\n",
        "\n",
        "def extract_hiding_behaviors(description):\n",
        "    hiding_keywords = ['delete', 'remove', 'clear']\n",
        "    hiding_behaviors = []\n",
        "\n",
        "    sentences = sent_tokenize(description)\n",
        "\n",
        "    for sentence in sentences:\n",
        "        words = re.findall(r'\\w+', sentence.lower())\n",
        "        for keyword in hiding_keywords:\n",
        "            if keyword in words:\n",
        "                hiding_behaviors.append(sentence)\n",
        "                break\n",
        "\n",
        "    return hiding_behaviors\n",
        "\n",
        "description = \"\"\"\n",
        "Android saves system activity into the system log, which can be viewed via the logcat. Malware can call adb logcat -c to delete the logs if the phone is rooted or if the Android API is lower than 16. We present an example of such an action extracted from the trojan SMSblocker.\n",
        "\"\"\"\n",
        "\n",
        "hiding_behaviors = extract_hiding_behaviors(description)\n",
        "if hiding_behaviors:\n",
        "    print(\"Hiding Behaviors:\")\n",
        "    for behavior in hiding_behaviors:\n",
        "        print(behavior)\n",
        "else:\n",
        "    print(\"No hiding behaviors found.\")\n"
      ],
      "metadata": {
        "colab": {
          "base_uri": "https://localhost:8080/"
        },
        "id": "7XA5TgEvpgv7",
        "outputId": "1d1a255a-2e5d-4a60-ea20-bad34a1a021c"
      },
      "execution_count": 41,
      "outputs": [
        {
          "output_type": "stream",
          "name": "stdout",
          "text": [
            "Hiding Behaviors:\n",
            "Malware can call adb logcat -c to delete the logs if the phone is rooted or if the Android API is lower than 16.\n"
          ]
        }
      ]
    }
  ]
}